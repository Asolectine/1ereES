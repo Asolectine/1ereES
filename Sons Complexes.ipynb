{
 "cells": [
  {
   "cell_type": "markdown",
   "metadata": {},
   "source": [
    "# Représenter un son complexe"
   ]
  },
  {
   "cell_type": "markdown",
   "metadata": {},
   "source": [
    "<div class=\"alert alert-block alert-danger\"> L'objectif est de vérifier que la reltion existante entre fréquence harmonique et fréquence fondamentale est nécessaire pour obtenir une onde complexe, qui a la propriété d'être périodique </ul>"
   ]
  },
  {
   "cell_type": "markdown",
   "metadata": {},
   "source": [
    "Importation des bibliothèques nécessaires"
   ]
  },
  {
   "cell_type": "code",
   "execution_count": null,
   "metadata": {},
   "outputs": [],
   "source": [
    "from matplotlib import pyplot\n",
    "%matplotlib inline\n",
    "from math import *"
   ]
  },
  {
   "cell_type": "markdown",
   "metadata": {},
   "source": [
    " ### Propriétés des 4 sons purs (sinusoïdaux)"
   ]
  },
  {
   "cell_type": "markdown",
   "metadata": {},
   "source": [
    "Onde sinusoïdale 1"
   ]
  },
  {
   "cell_type": "code",
   "execution_count": null,
   "metadata": {},
   "outputs": [],
   "source": [
    "f1=440 #fréquence du signal en Hz. Modifiable\n",
    "A1=4 #amplitude. Modifiable"
   ]
  },
  {
   "cell_type": "markdown",
   "metadata": {},
   "source": [
    "Onde sinusoïdale 2"
   ]
  },
  {
   "cell_type": "code",
   "execution_count": null,
   "metadata": {},
   "outputs": [],
   "source": [
    "f2=512 #fréquence du signal en Hz. Modifiable\n",
    "A2=3 #amplitude. Modifiable"
   ]
  },
  {
   "cell_type": "markdown",
   "metadata": {},
   "source": [
    "Onde sinusoïdale 3"
   ]
  },
  {
   "cell_type": "code",
   "execution_count": null,
   "metadata": {},
   "outputs": [],
   "source": [
    "f3=602 #fréquence du signal en Hz. Modifiable\n",
    "A3=2 #amplitude. Modifiable"
   ]
  },
  {
   "cell_type": "markdown",
   "metadata": {},
   "source": [
    "Onde sinusoïdale 4"
   ]
  },
  {
   "cell_type": "code",
   "execution_count": null,
   "metadata": {},
   "outputs": [],
   "source": [
    "f4=770#fréquence du signal en Hz. Modifiable\n",
    "A4=1 #amplitude. Modifiable"
   ]
  },
  {
   "cell_type": "markdown",
   "metadata": {},
   "source": [
    "### <b> Affichage des 4 sinusoïdes"
   ]
  },
  {
   "cell_type": "code",
   "execution_count": null,
   "metadata": {},
   "outputs": [],
   "source": [
    "tmax=0.01 #durée du signal en seconde (sur l'axe des abscisses). Modifiable"
   ]
  },
  {
   "cell_type": "code",
   "execution_count": null,
   "metadata": {},
   "outputs": [],
   "source": [
    "A=max([A1,A2,A3,A4])\n",
    "repere = pyplot.axes(xlim=(0, tmax), ylim=(-A,A))\n",
    "repere.set_xlabel('t')\n",
    "repere.set_ylabel('Amplitude')\n",
    "repere.set_title(\"Représentation graphique d'un signal sinusoïdal\")\n",
    "n=500 #nombre d'intervalles (n+1 points). Modifiable (augmenter si la courbe n'est pas assez 'lisse')\n",
    "\n",
    "t=[k*tmax/n for k in range(n+1)] #liste des n+1 valeurs de t [0,n] (axe des abscisses)\n",
    "\n",
    "def s1(t):\n",
    "    return A1*cos(2*pi*f1*t)\n",
    "\n",
    "def s2(t):\n",
    "    return A2*cos(2*pi*f2*t+0.8)\n",
    "\n",
    "def s3(t):\n",
    "    return A3*cos(2*pi*f3*t+1.3)\n",
    "\n",
    "def s4(t):\n",
    "    return A4*cos(2*pi*f4*t+2.1)\n",
    "\n",
    "\n",
    "repere.plot(t,[s1(t) for t in t])\n",
    "repere.plot(t,[s2(t) for t in t])\n",
    "repere.plot(t,[s3(t) for t in t])\n",
    "repere.plot(t,[s4(t) for t in t])"
   ]
  },
  {
   "cell_type": "code",
   "execution_count": null,
   "metadata": {},
   "outputs": [],
   "source": []
  },
  {
   "cell_type": "code",
   "execution_count": null,
   "metadata": {},
   "outputs": [],
   "source": [
    "tmax=0.04\n",
    "AA=A1+A2+A3+A4\n",
    "repere = pyplot.axes(xlim=(0, tmax), ylim=(-AA,AA))\n",
    "repere.set_xlabel('t')\n",
    "repere.set_ylabel('Amplitude')\n",
    "repere.set_title(\"Représentation graphique d'un signal sinusoïdal\")\n",
    "n=500 #nombre d'intervalles (n+1 points). Modifiable (augmenter si la courbe n'est pas assez 'lisse')\n",
    "\n",
    "t=[k*tmax/n for k in range(n+1)] #liste des n+1 valeurs de t [0,n] (axe des abscisses)\n",
    "def S(t):\n",
    "    return s1(t)+s2(t)+s3(t)+s4(t)\n",
    "\n",
    "repere.plot(t,[S(t) for t in t])"
   ]
  },
  {
   "cell_type": "code",
   "execution_count": null,
   "metadata": {},
   "outputs": [],
   "source": []
  }
 ],
 "metadata": {
  "kernelspec": {
   "display_name": "Python 3",
   "language": "python",
   "name": "python3"
  },
  "language_info": {
   "codemirror_mode": {
    "name": "ipython",
    "version": 3
   },
   "file_extension": ".py",
   "mimetype": "text/x-python",
   "name": "python",
   "nbconvert_exporter": "python",
   "pygments_lexer": "ipython3",
   "version": "3.7.6"
  }
 },
 "nbformat": 4,
 "nbformat_minor": 4
}
